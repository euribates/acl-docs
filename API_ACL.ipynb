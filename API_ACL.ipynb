{
 "cells": [
  {
   "cell_type": "markdown",
   "metadata": {},
   "source": [
    "## API Academia Canaria de la Langua"
   ]
  },
  {
   "cell_type": "markdown",
   "metadata": {},
   "source": [
    "Las API de la ACL se pueden consultar sin necesidad de autentificación. Todas las operaciones\n",
    "son con `GET` y devuelven como resultado un JSON. El resultado _siempre_ es un diccionario. Este diccionario tendrá _siempre_ un campo `status`.\n",
    "\n",
    "- Si todo ha ido bien, el campo `status` tendrá como contenido `ok`, y habrá\n",
    "  otro campo en el diccionario con el nombre `result` que tendrá el resultado\n",
    "  de la api, que podrá ser un número, diccionario, lista, o cualquier otro\n",
    "  resultado válido en JSON.\n",
    "\n",
    "- Si se ha producido un error, en la clave `status` encontraremos el valor `error`, __no__ habrá\n",
    "  un campo `result`, pero si habrá un campo `message` con más información acerca del error\n",
    "  peoducido.\n",
    "\n",
    "Esto son los campos incluidos por defecto, pero dependiendo de la llamada, puede\n",
    "que haya más claves con meta-informnación sobre el resultado, algunos\n",
    "de los más habituales son:\n",
    "\n",
    "- `timestamp`: marca temporal que indica el momento en que se realizó la respuesta. Como\n",
    "  JSON no tiene un tipo especifico para fechas/timestamps, el valor es una\n",
    "  cadena de texto en formato [ISO 8601](https://en.wikipedia.org/wiki/ISO_8601). Si\n",
    "  en el resultado hubieran también fechas o timestamp, se codificarían igual.\n",
    "\n",
    "- `name`: Nombre de la API que se ha invocado.\n",
    "\n",
    "- `length`: Si el dato devuelto en el campo `result` tienen el concepto \n",
    "  de longitud, tendría ese valor. Por ejemplo, si el resultado es una lista\n",
    "  o un diccionario, en este campo vendrían el número de elementos. Si el\n",
    "  resultado es una string de texto, la longitud de la misma. Si es un entero,\n",
    "  no vendrá este campo, ya que no tiene sentido en ese caso."
   ]
  },
  {
   "cell_type": "markdown",
   "metadata": {},
   "source": [
    "### Versión de la API\n",
    "\n",
    "La llamada API más sencilla de todas es la que nos permite comprobar la versión de la API activa.\n",
    "\n",
    "Para consultarla, solo hay que hacer un GET a la ruta `/api/version/` en el website de la Academia, `wwww.academiacanarialengua.org`. El siguiente código realiza una consulta a esa API usando la librería [requests](http://docs.python-requests.org/en/master/) de Python."
   ]
  },
  {
   "cell_type": "code",
   "execution_count": 1,
   "metadata": {},
   "outputs": [
    {
     "name": "stdout",
     "output_type": "stream",
     "text": [
      "{'status': 'ok', 'result': '0.1', 'timestamp': '2018-06-29 22:19:33.400743', 'length': 3, 'name': 'version'}\n"
     ]
    }
   ],
   "source": [
    "import requests\n",
    "host = 'www.academiacanarialengua.org'\n",
    "url = 'http://{host}/api/version/'.format(host=host)\n",
    "\n",
    "data = requests.get(url)\n",
    "print(data.json())"
   ]
  },
  {
   "cell_type": "markdown",
   "metadata": {},
   "source": [
    "Ejemplo de consulta usando el navegador:\n",
    "\n",
    "- [http://www.academiacanarialengua.org/api/version/](http://www.academiacanarialengua.org/api/version/)"
   ]
  },
  {
   "cell_type": "markdown",
   "metadata": {},
   "source": [
    "### la API de búsqueda\n",
    "\n",
    "La api de búsqueda está en la ruta `api/search/<raiz>`, de forma que podemos buscar todas las palabras que _empiezan_\n",
    "por una serie de letras, por ejemplo, para buscar las palabras que empiezan por `agu`, la URL a usar\n",
    "sería [http://www.academiacanarialengua.org/api/search/agu](http://www.academiacanarialengua.org/api/search/agu). El siguiente ejemplo lista las palabras encontradas usando esa misma llamada:"
   ]
  },
  {
   "cell_type": "code",
   "execution_count": 2,
   "metadata": {},
   "outputs": [
    {
     "name": "stdout",
     "output_type": "stream",
     "text": [
      "ok\n",
      "525 agua\n",
      "526 aguacatero\n",
      "527 aguachento\n",
      "528 aguachirre\n",
      "529 aguadija\n",
      "530 aguadura\n",
      "531 aguafeble\n",
      "532 aguaidil\n",
      "533 aguaje\n",
      "534 aguantamicuna\n",
      "535 aguantar\n",
      "536 aguapata\n",
      "537 aguasperarse\n",
      "538 aguaviva\n",
      "539 agüero\n",
      "540 aguiciar\n",
      "541 águila\n",
      "542 aguililla\n",
      "543 agüimense\n",
      "544 agujerada\n",
      "545 agujeta\n",
      "546 agujilla\n",
      "547 agulense\n"
     ]
    }
   ],
   "source": [
    "import requests\n",
    "host = 'www.academiacanarialengua.org'\n",
    "term = 'agu'\n",
    "url = 'http://{host}/api/search/{term}'.format(host=host, term=term)\n",
    "\n",
    "r = requests.get(url)\n",
    "data = r.json()\n",
    "print(data['status'])\n",
    "for row in data['result']:\n",
    "    print(row['id_entrada'], row['palabra'])"
   ]
  },
  {
   "cell_type": "markdown",
   "metadata": {},
   "source": [
    "### La API de consulta de detalles de una entrada\n",
    "\n",
    "A partir del identificador de cada entrada, que es el número `id_entrada` devuelto por la API\n",
    "de búsqueda, podemos obrtener todos los datos de esa entrada, especialmente la lista de acepciones\n",
    "del término. La api esta localizada en `api/word/<id. entrada>`. \n",
    "\n",
    "Por ejemplo, podemos obtener los detalles de la entrada _aguaviva_ (Id. 538) con la siguiente\n",
    "llamada:\n",
    "\n",
    "- [http://www.academiacanarialengua.org/api/word/538](http://www.academiacanarialengua.org/api/word/538)"
   ]
  },
  {
   "cell_type": "code",
   "execution_count": 3,
   "metadata": {},
   "outputs": [
    {
     "name": "stdout",
     "output_type": "stream",
     "text": [
      "id_entrada 538\n",
      "version 0\n",
      "destacada True\n",
      "palabra aguaviva\n",
      "slug aguaviva\n",
      "drae False\n",
      "variante \n",
      "revisada True\n",
      "edicion 1\n"
     ]
    }
   ],
   "source": [
    "from IPython.core.display import display, HTML\n",
    "import requests\n",
    "\n",
    "host = 'www.academiacanarialengua.org'\n",
    "id_word = 538\n",
    "url = 'http://{host}/api/word/{pk}'.format(host=host, pk=id_word)\n",
    "\n",
    "data = requests.get(url).json()\n",
    "word = data['result']\n",
    "for k in word:\n",
    "    if k != 'acepciones':  # Veremos las acepciones más adelante\n",
    "        print(k, data['result'][k])"
   ]
  },
  {
   "cell_type": "markdown",
   "metadata": {},
   "source": [
    "#### Descripción de los campos\n",
    "\n",
    "Los campos de una palabra son los siguientes:\n",
    "\n",
    "- **`id_entrada`**: La clave primaria e identificador único de cada entrada en el \n",
    "  diccionario.\n",
    "\n",
    "- **`edicion`**: Se refiere a la edición en papel. Estos contenidos son los que están publicados\n",
    "    en la versión actual, que es la 1. Hay una versión en desarrollo en la que todas\n",
    "    las entradas tendrán en este valor un 2, pero por el momento no es pública\n",
    "    \n",
    "- **`version`**: La versión de la entrada. Hay alguna entradas que corresponden \n",
    "  a palabras que se escriben igual pero resultan ser entradas diferentes. Véase por \n",
    "  ejemplo [baifa](http://www.academiacanarialengua.org/palabra/baifa/), que aparece \n",
    "  dos veces, con id. 5112, version 1 e id. 860, version 2. A pesar de que se escriben\n",
    "  igual, son dos entradas distintas en el diccionario, porque\n",
    "  la versión 1 es un sustantivo y la 2 es un adjetivo. Si `version` es cero significa que\n",
    "  no hay ninguna otra entrada que se escriba igual que esta. Si hay duplicados, `version`\n",
    "  valdra $1$, $2$,...\n",
    "\n",
    "- **`palabra`**: El texto de la palabra, siempre en minúscula.\n",
    "\n",
    "- **`slug`**: Se usa para componer el URL de la palabra en la web. Normalemente coincide\n",
    "  con la palabra, pero a veces es una versión más sencilla, sin acentos, eñes, etc...\n",
    "  para que las direcciones se puedan escribir usando cualquier teclado. Por ejemplo\n",
    "  [abejón](http://www.academiacanarialengua.org/palabra/abejon) tiene como \n",
    "  slug `abejon`. Observese que el campo `slug` es la última parte de la ruta. \n",
    "  \n",
    "  La combinación de `slug` y `version` forman\n",
    "  un par de valores único para cada palabra en el diccionario y son, por tanto, una \n",
    "  clave candidata u opcional.\n",
    "\n",
    "- **`variante`**: Se usa para palabras que tienen una variacíón por género o por otras\n",
    "  causas, véase por \n",
    "  ejemplo [abaifado/da](http://www.academiacanarialengua.org/palabra/abaifado). El valor\n",
    "  del campo `variante` en este caso es `da`.\n",
    "  \n",
    "- **`revisada`**: Si está a verdadero, es que la entrada está revisada. Todas las entradas\n",
    "  en el diccionario actual están revisadas, es decir, todas tienen este campo a `True`.\n",
    "  \n",
    "- **`drae`**: Indicaría si esta palara está recogida en DRAE o no. No es un dato fiable.\n",
    "  \n",
    "- **`destacada`**: Este campo es un booleano que indica si la palabra debe aparecer un la\n",
    "  pagina principal de la web de la ACL. Asi evitamos que aparezcan palabras con poco\n",
    "  contenido, sinónimos, etc...\n",
    "  \n"
   ]
  },
  {
   "cell_type": "markdown",
   "metadata": {},
   "source": [
    "### Las acepciones\n",
    "\n",
    "Además de lo anterior, la palabra tiene una lista de acepciones. Cada una de las\n",
    "acepciones tiene los siguientes campos.\n",
    "\n",
    "- **`id_acepcion`**: El identificador único y clave primaria de la acepción\n",
    "\n",
    "- **`orden`**: El orden en que se debe presentar cada acepción\n",
    "\n",
    "- **`formato`**: Siempre debbería ser `html`\n",
    "\n",
    "- **`texto`**: El lexto de la acepción.\n",
    "\n",
    "- **`etiquetas`**: Una lista de las etiquetas asociadas a la acepción. Cada\n",
    "  etiqueta se compone de 5 campos:\n",
    "  \n",
    "  - **`id_etiqueta`**: El identificador de la etiqeuta\n",
    "  \n",
    "  - **`descripcion`**: La descripción textual\n",
    "  \n",
    "  - **`etiqueta`**: La marca usada para indicar esa etiqueta, p.e. `m` para\n",
    "    sustantivo masculino.\n",
    "    \n",
    "  - **`orden`**: El orden en que se deben mostrar las etiquetas.  \n",
    "    \n",
    "  - **`grupo`**: Una letra que indica el grupo al que corresponde la etiqueta. Hay tres grupos\n",
    "    definidos en este diccionario: Gramatical (`G`), Diatópicas (`L`) y Otras (`X`).\n",
    "\n",
    "\n"
   ]
  },
  {
   "cell_type": "markdown",
   "metadata": {},
   "source": [
    "Veamos un ejemplo donde mostramos las acepciones de la palabra _aguaviva_ (Id. 538):"
   ]
  },
  {
   "cell_type": "code",
   "execution_count": 4,
   "metadata": {},
   "outputs": [
    {
     "data": {
      "text/html": [
       "<h4>Acepciones</h4>"
      ],
      "text/plain": [
       "<IPython.core.display.HTML object>"
      ]
     },
     "metadata": {},
     "output_type": "display_data"
    },
    {
     "data": {
      "text/html": [
       "<ul>"
      ],
      "text/plain": [
       "<IPython.core.display.HTML object>"
      ]
     },
     "metadata": {},
     "output_type": "display_data"
    },
    {
     "data": {
      "text/html": [
       "<li><b>0</b> <tt>fauna,f</tt> (<i>Physalia physalis</i>) Animal marino colonial, provisto de una bolsa casi transparente de color débilmente azulado, que flota en el agua y deja colgando unos tentáculos también azulados, que producen un intenso escozor al tocarlos. <i>Al final del invierno ya empiezan a verse cerca de la orilla las aguavivas</i>. En algunas zonas de Canarias se conoce también con los nombres de <i>ferreca </i>y <i>furrieca</i>.</li>"
      ],
      "text/plain": [
       "<IPython.core.display.HTML object>"
      ]
     },
     "metadata": {},
     "output_type": "display_data"
    },
    {
     "data": {
      "text/html": [
       "<li><b>1</b> <tt>fauna,f,Lz,Fv,GC,Tf</tt> (<i>Anemonia sulcata</i>) Animal marino que vive fijo en las rocas de los charcos y <i>bajíos</i> en grupos de muchos individuos. Su cuerpo es blando y contráctil, y forma una especie de manojo de fideos en su extremo superior alrededor de la boca. Produce escozor cuando se le toca. <i>Las aguavivas se alimentan de pequeños peces y crustáceos</i>. En otras zonas de Canarias se conoce con los nombres de <i>fideos</i> y <i>ortiguilla</i>.</li>"
      ],
      "text/plain": [
       "<IPython.core.display.HTML object>"
      ]
     },
     "metadata": {},
     "output_type": "display_data"
    },
    {
     "data": {
      "text/html": [
       "</ul>"
      ],
      "text/plain": [
       "<IPython.core.display.HTML object>"
      ]
     },
     "metadata": {},
     "output_type": "display_data"
    }
   ],
   "source": [
    "from IPython.core.display import display, HTML\n",
    "import requests\n",
    "\n",
    "host = 'www.academiacanarialengua.org'\n",
    "id_word = 538\n",
    "url = 'http://{host}/api/word/{pk}'.format(host=host, pk=id_word)\n",
    "\n",
    "data = requests.get(url).json()\n",
    "word = data['result']\n",
    "display(HTML('<h4>Acepciones</h4>'))\n",
    "display(HTML('<ul>'))\n",
    "for acepcion in word['acepciones']:\n",
    "    etiquetas = ','.join([\n",
    "        etiqueta['etiqueta']\n",
    "        for etiqueta in acepcion['etiquetas']\n",
    "        ])\n",
    "    display(HTML('<li><b>{}</b> <tt>{}</tt> {}</li>'.format(\n",
    "        acepcion['orden'],\n",
    "        etiquetas,\n",
    "        acepcion['texto'],\n",
    "    )))\n",
    "    \n",
    "display(HTML('</ul>'))"
   ]
  },
  {
   "cell_type": "markdown",
   "metadata": {},
   "source": [
    "#### Acepciones como ejemplos ⭐\n",
    "\n",
    "Algunas acepciones son en realidad ejemplos de uso. Se pueden distinguir porque\n",
    "el texto empieza siempre con la cadena de texto `//`. Véase como ejemplo\n",
    "la entrada **Aceite (id. 487)**.\n",
    "\n",
    " - [Aceite (web)](http://www.academiacanarialengua.org/palabra/aceite/)\n",
    " - [Aceite (api)](http://www.academiacanarialengua.org/api/word/487)"
   ]
  },
  {
   "cell_type": "markdown",
   "metadata": {},
   "source": [
    "#### Acepciones que citan otras entradas ⭐\n",
    "\n",
    "Algunas acepciones usan o _citan_ en su explicación otra entrada diferente del \n",
    "diccionario. En ese caso, en la acepción se incluye un campo\n",
    "`cita` que apunta a la entrada usada. Por ejemplo, la entrada **abochacharse (id. 461)**, \n",
    "en su primera acepción, referencia a la entrada **hincharse (id. 2763)**.\n",
    "El campo cita incluye los valores:\n",
    "\n",
    " - **`palabra`**. La palabra usada\n",
    " - **`id_entrada`**: El identificador numérico de la entrada\n",
    " \n",
    "Vease como ejemplo:\n",
    "\n",
    " - [abochacharse (web)](http://www.academiacanarialengua.org/palabra/abochacharse/)\n",
    " - [abochacharse (api)](http://www.academiacanarialengua.org/api/word/461)\n",
    " \n",
    " **Nota**: En la versión actual de la web, no se usa esta información, pero la aplicación\n",
    " móvil podría usarla, si lo consideráis pertinente."
   ]
  },
  {
   "cell_type": "markdown",
   "metadata": {},
   "source": [
    "#### Acepciones con notas ⭐\n",
    "\n",
    "Algunas acepciones incluyen notas, ya sea sobre pronunciación o haciendo\n",
    "referencia a alguna foto que está asociada a otra entrada. en esos casos,\n",
    "la acepcion incluirá un campo `nota` adicional. Véase como ejemplo\n",
    "la entrada **caracolear (id. 1322)**, que tiene una nota sobre pronunciación:\n",
    "\n",
    " - [caracolear (web)](http://www.academiacanarialengua.org/palabra/caracolear/)\n",
    " - [caracolear (api)](http://www.academiacanarialengua.org/api/word/1322)\n",
    " \n",
    "O la entrada **tabaquero (id. 4508)**, que incluye una nota haciendo referencia\n",
    "a la foto de otra entrada, **camello (id. 1254)**. En este caso, los campos `foto` y `thumbnail` estarán incluidos con la información de dicha foto (Véase la\n",
    "sección: _Entradas con fotos_).\n",
    "\n",
    " - [tabaquero (web)](http://www.academiacanarialengua.org/palabra/tabaquero/)\n",
    " - [tabaquero (aip)](http://www.academiacanarialengua.org/api/word/4508)\n"
   ]
  },
  {
   "cell_type": "markdown",
   "metadata": {},
   "source": [
    "#### La entrada que más acepciones tiene (Papa)⭐\n",
    "\n",
    "He pensado que podría seros interesante saber que entrada tiene ahora\n",
    "mismo más acepciones, para probar la interfaz, tiempos de respuesta, etc...\n",
    "Se trata de **papa (id. 3582)**, con $23$ acepciones (y foto):\n",
    "\n",
    " - [papa (web)](http://www.academiacanarialengua.org/palabra/papa/)\n",
    " - [papa (api)](http://www.academiacanarialengua.org/api/word/3582)\n",
    "\n"
   ]
  },
  {
   "cell_type": "markdown",
   "metadata": {},
   "source": [
    "### Entradas con fotos ⭐\n",
    "\n",
    "las entradas que tengan foto incluirán doc campos más, `foto` y `thumbnail`. el campo `foto` incluye la siguiente información:\n",
    "    \n",
    "- **`url`**: La URl relativa de la foto.\n",
    "- **`peso`**: El tamaño en bytes del fichero\n",
    "- **`ancho`**: Ancho en pixels de la imagen\n",
    "- **`alto`**: Alto en pixels de la imagen\n",
    "- **`leyenda`**: Leyenda para incluir al pie de la foto\n",
    "\n",
    "El campo `thumbnail` es una versión reducida en tamaño de la misma foto. Está\n",
    "garantizado que su tamaño siempre será, como máximo, $320x200$ o $200x320$ (según\n",
    "el formato sea apaisado o retrato). Los campos son los mismo que en la foto, pero\n",
    "se omite la leyenda.\n",
    "\n",
    "Vease como siguiente ejemplo la entrada **Abade (Id. 440)**:\n",
    "\n",
    " - [abade (web)](http://www.academiacanarialengua.org/palabra/abade/)\n",
    " - [abade (api)](http://www.academiacanarialengua.org/api/word/440)"
   ]
  },
  {
   "cell_type": "markdown",
   "metadata": {},
   "source": [
    "#### Api de busqueda que se podrían hacer facilmente\n",
    "\n",
    "No están hechas, pero estas API se podrían hacer muy facilmente:\n",
    "    \n",
    "- Búsqueda de palabras que **contengan** un determinado fragmento (no solo las que _empiezan por_)\n",
    "\n",
    "- Búsqueda de palabras que incluya el texto de las acepciones.\n"
   ]
  }
 ],
 "metadata": {
  "kernelspec": {
   "display_name": "Python 3",
   "language": "python",
   "name": "python3"
  },
  "language_info": {
   "codemirror_mode": {
    "name": "ipython",
    "version": 3
   },
   "file_extension": ".py",
   "mimetype": "text/x-python",
   "name": "python",
   "nbconvert_exporter": "python",
   "pygments_lexer": "ipython3",
   "version": "3.5.2"
  }
 },
 "nbformat": 4,
 "nbformat_minor": 2
}
